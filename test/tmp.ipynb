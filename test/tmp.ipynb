{
 "cells": [
  {
   "cell_type": "markdown",
   "metadata": {},
   "source": [
    "IMPORT MODULES"
   ]
  },
  {
   "cell_type": "code",
   "execution_count": 4,
   "metadata": {},
   "outputs": [],
   "source": [
    "from sklearn.cluster import SpectralClustering\n",
    "import numpy as np\n",
    "import pandas as pd\n",
    "\n",
    "np.random.seed(0)"
   ]
  },
  {
   "cell_type": "code",
   "execution_count": 15,
   "metadata": {},
   "outputs": [],
   "source": [
    "\n",
    "def pretty_print_mat(mat):\n",
    "    return \"\\n\".join([\",\".join([\"%.4f\" % fl for fl in mat_i]) for mat_i in mat]) + \"\\n\"        \n"
   ]
  },
  {
   "cell_type": "markdown",
   "metadata": {},
   "source": [
    "WARNING - IMPLEMENTATION DIFFERENCES:\n",
    "\n",
    "    -I think I didn't understand the documentation properly:\n",
    "        their definition of affinity matrix seems different.\n",
    "        in their matrix, the diagonal has 1 and not 0\n",
    "    \n",
    "    -no control over which algorithm finds the eigenvalues+eigenvectors\n",
    "    \n",
    "    -when creating WAM, sklearn uses norm^2 instead of norm\n",
    "     (maybe we can create a workaround using the 'affinity' parameter)\n",
    "    "
   ]
  },
  {
   "cell_type": "markdown",
   "metadata": {},
   "source": [
    "INPUT PARAMETERS"
   ]
  },
  {
   "cell_type": "code",
   "execution_count": 10,
   "metadata": {},
   "outputs": [],
   "source": [
    "k = 3\n",
    "X = pd.read_csv(\"C:\\\\Users\\\\user\\\\OneDrive - mail.tau.ac.il\\\\uni\\\\2a\\\\soft_proj\\\\spectral_clustering\\\\data_for_testing\\\\compare\\\\inputs\\\\input_1.txt\")"
   ]
  },
  {
   "cell_type": "markdown",
   "metadata": {},
   "source": [
    "PERFORM CLUSTERING"
   ]
  },
  {
   "cell_type": "code",
   "execution_count": 18,
   "metadata": {},
   "outputs": [
    {
     "data": {
      "text/plain": [
       "SpectralClustering(gamma=0.5, n_clusters=3, n_init=1)"
      ]
     },
     "execution_count": 18,
     "metadata": {},
     "output_type": "execute_result"
    }
   ],
   "source": [
    "# using a fixed 'k'\n",
    "# n_clusters: k\n",
    "# n_init:   number of times to run kmeans (if more than 1, uses best result)\n",
    "# gamma:    This is for the adjacency matrix's kernel function. \n",
    "#           It is programmed to be e^(-(norm)^2 / gamma)\n",
    "# assign_labels: tells the function to perform kmeans\n",
    "clustering = SpectralClustering(n_clusters=k, n_init=1, gamma=0.5, assign_labels='kmeans')\n",
    "clustering.fit(X)"
   ]
  },
  {
   "cell_type": "markdown",
   "metadata": {},
   "source": [
    "CHECK OUTPUT"
   ]
  },
  {
   "cell_type": "code",
   "execution_count": 19,
   "metadata": {},
   "outputs": [
    {
     "name": "stdout",
     "output_type": "stream",
     "text": [
      "1.0000,0.5033,0.0000,0.0000,0.5215\n",
      "0.5033,1.0000,0.0000,0.0000,0.2874\n",
      "0.0000,0.0000,1.0000,0.0995,0.0000\n",
      "0.0000,0.0000,0.0995,1.0000,0.0000\n",
      "0.5215,0.2874,0.0000,0.0000,1.0000\n",
      "\n",
      "\n",
      "[1 2 0 0 1]\n"
     ]
    }
   ],
   "source": [
    "print(pretty_print_mat(clustering.affinity_matrix_))\n",
    "print()\n",
    "print(clustering.labels_)"
   ]
  }
 ],
 "metadata": {
  "interpreter": {
   "hash": "0600588c3b5f4418cbe7b5ebc6825b479f3bc010269d8b60d75058cdd010adfe"
  },
  "kernelspec": {
   "display_name": "Python 3.7.9 64-bit",
   "language": "python",
   "name": "python3"
  },
  "language_info": {
   "codemirror_mode": {
    "name": "ipython",
    "version": 3
   },
   "file_extension": ".py",
   "mimetype": "text/x-python",
   "name": "python",
   "nbconvert_exporter": "python",
   "pygments_lexer": "ipython3",
   "version": "3.7.9"
  },
  "orig_nbformat": 4
 },
 "nbformat": 4,
 "nbformat_minor": 2
}
